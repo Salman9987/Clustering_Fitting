{
 "cells": [
  {
   "cell_type": "code",
   "execution_count": 3,
   "id": "111bdfd0-60e5-4459-a999-1eb16fea89b3",
   "metadata": {},
   "outputs": [
    {
     "name": "stdout",
     "output_type": "stream",
     "text": [
      "     Person ID  Gender  Age            Occupation  Sleep Duration  \\\n",
      "0            1    Male   27     Software Engineer             6.1   \n",
      "1            2    Male   28                Doctor             6.2   \n",
      "2            3    Male   28                Doctor             6.2   \n",
      "3            4    Male   28  Sales Representative             5.9   \n",
      "4            5    Male   28  Sales Representative             5.9   \n",
      "..         ...     ...  ...                   ...             ...   \n",
      "369        370  Female   59                 Nurse             8.1   \n",
      "370        371  Female   59                 Nurse             8.0   \n",
      "371        372  Female   59                 Nurse             8.1   \n",
      "372        373  Female   59                 Nurse             8.1   \n",
      "373        374  Female   59                 Nurse             8.1   \n",
      "\n",
      "     Quality of Sleep  Physical Activity Level  Stress Level BMI Category  \\\n",
      "0                   6                       42             6   Overweight   \n",
      "1                   6                       60             8       Normal   \n",
      "2                   6                       60             8       Normal   \n",
      "3                   4                       30             8        Obese   \n",
      "4                   4                       30             8        Obese   \n",
      "..                ...                      ...           ...          ...   \n",
      "369                 9                       75             3   Overweight   \n",
      "370                 9                       75             3   Overweight   \n",
      "371                 9                       75             3   Overweight   \n",
      "372                 9                       75             3   Overweight   \n",
      "373                 9                       75             3   Overweight   \n",
      "\n",
      "    Blood Pressure  Heart Rate  Daily Steps Sleep Disorder  \n",
      "0           126/83          77         4200            NaN  \n",
      "1           125/80          75        10000            NaN  \n",
      "2           125/80          75        10000            NaN  \n",
      "3           140/90          85         3000    Sleep Apnea  \n",
      "4           140/90          85         3000    Sleep Apnea  \n",
      "..             ...         ...          ...            ...  \n",
      "369         140/95          68         7000    Sleep Apnea  \n",
      "370         140/95          68         7000    Sleep Apnea  \n",
      "371         140/95          68         7000    Sleep Apnea  \n",
      "372         140/95          68         7000    Sleep Apnea  \n",
      "373         140/95          68         7000    Sleep Apnea  \n",
      "\n",
      "[374 rows x 13 columns]\n"
     ]
    }
   ],
   "source": [
    "import pandas as pd\n",
    "import numpy as np\n",
    "import matplotlib.pyplot as plt\n",
    "from sklearn.decomposition import PCA\n",
    "from sklearn.cluster import KMeans\n",
    "from sklearn.preprocessing import StandardScaler\n",
    "from scipy.optimize import curve_fit\n",
    "import seaborn as sns\n",
    "\n",
    "# Define the linear fitting function\n",
    "def linear(x, a, b):\n",
    "    return a * x + b\n",
    "\n",
    "# Load the dataset\n",
    "FILE_PATH = 'Sleep_health_and_lifestyle_dataset.csv'\n",
    "data = pd.read_csv(FILE_PATH)\n",
    "print (data)"
   ]
  },
  {
   "cell_type": "code",
   "execution_count": null,
   "id": "982a93f8-68e7-43ac-8276-fb8e698163d4",
   "metadata": {},
   "outputs": [],
   "source": []
  }
 ],
 "metadata": {
  "kernelspec": {
   "display_name": "Python 3 (ipykernel)",
   "language": "python",
   "name": "python3"
  },
  "language_info": {
   "codemirror_mode": {
    "name": "ipython",
    "version": 3
   },
   "file_extension": ".py",
   "mimetype": "text/x-python",
   "name": "python",
   "nbconvert_exporter": "python",
   "pygments_lexer": "ipython3",
   "version": "3.12.7"
  }
 },
 "nbformat": 4,
 "nbformat_minor": 5
}
